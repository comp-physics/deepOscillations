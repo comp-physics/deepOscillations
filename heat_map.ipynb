{
  "nbformat": 4,
  "nbformat_minor": 0,
  "metadata": {
    "colab": {
      "provenance": []
    },
    "kernelspec": {
      "name": "python3",
      "display_name": "Python 3"
    },
    "language_info": {
      "name": "python"
    }
  },
  "cells": [
    {
      "cell_type": "code",
      "execution_count": 1,
      "metadata": {
        "colab": {
          "base_uri": "https://localhost:8080/",
          "height": 292
        },
        "id": "P2mhThKkdK0R",
        "outputId": "4f658d22-f17b-4733-e0f7-d8035013d688"
      },
      "outputs": [
        {
          "output_type": "execute_result",
          "data": {
            "text/plain": [
              "<matplotlib.axes._subplots.AxesSubplot at 0x7f539c5e4d30>"
            ]
          },
          "metadata": {},
          "execution_count": 1
        },
        {
          "output_type": "display_data",
          "data": {
            "text/plain": [
              "<Figure size 432x288 with 2 Axes>"
            ],
            "image/png": "[encoded data removed]"
          },
          "metadata": {}
        }
      ],
      "source": [
        "import numpy as np\n",
        "import seaborn as sns\n",
        "import matplotlib.pylab as plt\n",
        "\n",
        "1,2,3,5,7\n",
        "10,25,50,75,100,125\n",
        "dat = np.array([[4e-2, 1e-2, 0.7, 0.8e-2 , 0.1, 0.1,0.1],[0.1,0.98,0.97,0.25e-2, 0.1,0.1 , 0.1] ,[0.8,0.5,0.7,1e-2, 3e-3,1e-4,3e-4], [0.7,0.6,0.98,0.4e-3,5e-6, 3e-6,0.31e-6],[5,0.3, 0.1,0.1 , 0.3e-6,0.27e-6,5e-8]])\n",
        "dat = np.array([[4e-2, 1e-2, 0.7, 0.8e-2 , 0.1, 0.1,0.1],[0.1,0.98,0.97,0.25e-2, 0.1,0.1 , 0.1] ,[0.8,0.5,0.7,1e-2, 3e-3,1e-4,3e-4], [0.7,0.6,0.98,0.4e-3,5e-6, 3e-6,0.31e-6],[5,0.3, 0.1,0.1 , 0.3e-6,0.27e-6,5e-8]])\n",
        "\n",
        "dat = np.array([[1e0, 1e0, 1e0, 0.9e0 , 0.9e0, 0.9e0],[4e-2, 0.95e-2, 1e-2, 0.6e-2,4e-3, 2e-3] ,[2e-2, 0.7e-2,0.8e-2,1e-3,2e-3,1e-4], [1e-2,0.75e-2,0.8e-2,0.3e-3,0.5e-3,1e-4],[0.4e-2, 0.8e-2,0.3e-2,0.3e-4,1e-3,0.2e-3]])\n",
        "\n",
        "\n",
        "import numpy as np\n",
        "import seaborn as sns; sns.set_theme(style='white')\n",
        "import matplotlib.pyplot as plt\n",
        "from matplotlib.colors import LogNorm, Normalize\n",
        "from matplotlib.ticker import MaxNLocator\n",
        "\n",
        "\n",
        "\n",
        "f3, ax5 = plt.subplots(1,1)\n",
        "sns.heatmap(dat, square=True, norm=LogNorm())"
      ]
    },
    {
      "cell_type": "code",
      "source": [
        "dat"
      ],
      "metadata": {
        "colab": {
          "base_uri": "https://localhost:8080/"
        },
        "id": "1Y4xZ7DIdLTj",
        "outputId": "4d8716ad-7312-46cd-f14a-e5cd98cf9eab"
      },
      "execution_count": null,
      "outputs": [
        {
          "output_type": "execute_result",
          "data": {
            "text/plain": [
              "array([3, 2, 1])"
            ]
          },
          "metadata": {},
          "execution_count": 3
        }
      ]
    },
    {
      "cell_type": "code",
      "source": [
        "import numpy as np\n",
        "import seaborn as sns\n",
        "import matplotlib.pylab as plt\n",
        "\n",
        "import pandas as pd\n",
        "df1 = pd.read_excel('/content/exp_6_levin1.xlsx')\n",
        "df2 = pd.read_excel('/content/exp_6_flops_levin1.xlsx')"
      ],
      "metadata": {
        "id": "sBQH43IZXkXv"
      },
      "execution_count": 15,
      "outputs": []
    },
    {
      "cell_type": "code",
      "source": [
        "row1 = []\n",
        "row2 = []\n",
        "\n",
        "for i in range(df1.shape[0]):\n",
        "  row_list = df1.loc[i, :].values.flatten().tolist()\n",
        "  row1.append(row_list)\n",
        "  \n",
        "for i in range(df2.shape[0]):\n",
        "  row_list = df2.loc[i, :].values.flatten().tolist()\n",
        "  row2.append(row_list) "
      ],
      "metadata": {
        "id": "TyxEoYQDX0_0"
      },
      "execution_count": 16,
      "outputs": []
    },
    {
      "cell_type": "code",
      "source": [
        "import numpy as np\n",
        "import seaborn as sns; sns.set_theme(style='white')\n",
        "import matplotlib.pyplot as plt\n",
        "from matplotlib.colors import LogNorm, Normalize\n",
        "from matplotlib.ticker import MaxNLocator"
      ],
      "metadata": {
        "id": "5yf7DTROZr1r"
      },
      "execution_count": 17,
      "outputs": []
    },
    {
      "cell_type": "code",
      "source": [
        "dat1 = np.array(row1)\n",
        "dat2 = np.array(row2)"
      ],
      "metadata": {
        "id": "UUV5SDdPdX90"
      },
      "execution_count": 18,
      "outputs": []
    },
    {
      "cell_type": "code",
      "source": [
        "f3, ax5 = plt.subplots(1,1)\n",
        "sns.heatmap(dat1, square=True, norm=LogNorm())"
      ],
      "metadata": {
        "colab": {
          "base_uri": "https://localhost:8080/",
          "height": 291
        },
        "id": "1ui7Wce_ZAOi",
        "outputId": "ac4bb6e0-34e5-459a-c733-9590df18b532"
      },
      "execution_count": 19,
      "outputs": [
        {
          "output_type": "execute_result",
          "data": {
            "text/plain": [
              "<matplotlib.axes._subplots.AxesSubplot at 0x7fd98cf301f0>"
            ]
          },
          "metadata": {},
          "execution_count": 19
        },
        {
          "output_type": "display_data",
          "data": {
            "text/plain": [
              "<Figure size 432x288 with 2 Axes>"
            ],
            "image/png": "[encoded data removed]"
          },
          "metadata": {}
        }
      ]
    },
    {
      "cell_type": "code",
      "source": [
        "f3, ax5 = plt.subplots(1,1)\n",
        "sns.heatmap(dat2, square=True, norm=LogNorm())"
      ],
      "metadata": {
        "colab": {
          "base_uri": "https://localhost:8080/",
          "height": 290
        },
        "id": "OxW6vp4UZwCZ",
        "outputId": "46787ab8-a56f-47bb-8a94-97561e25671d"
      },
      "execution_count": 20,
      "outputs": [
        {
          "output_type": "execute_result",
          "data": {
            "text/plain": [
              "<matplotlib.axes._subplots.AxesSubplot at 0x7fd98cf04190>"
            ]
          },
          "metadata": {},
          "execution_count": 20
        },
        {
          "output_type": "display_data",
          "data": {
            "text/plain": [
              "<Figure size 432x288 with 2 Axes>"
            ],
            "image/png": "[encoded data removed]"
          },
          "metadata": {}
        }
      ]
    },
    {
      "cell_type": "code",
      "source": [],
      "metadata": {
        "id": "2NzWfitbZ1O9"
      },
      "execution_count": null,
      "outputs": []
    }
  ]
}